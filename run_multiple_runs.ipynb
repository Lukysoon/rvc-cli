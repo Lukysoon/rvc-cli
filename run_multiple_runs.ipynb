{
 "cells": [
  {
   "cell_type": "code",
   "execution_count": null,
   "id": "8fd9188c-3bd1-42ec-8845-0f05b35b80ad",
   "metadata": {},
   "outputs": [],
   "source": [
    "import training\n",
    "import inference\n",
    "import batch_inference"
   ]
  },
  {
   "cell_type": "code",
   "execution_count": null,
   "id": "1aa1291b-bc02-4baa-aaaa-ff975acfd002",
   "metadata": {},
   "outputs": [],
   "source": [
    "# cut_preprocess=True, \n",
    "# noise_reduction=False, \n",
    "# noise_reduction_strength=0.7, \n",
    "# overtraining_detector=False, \n",
    "# overtraining_threshold=50, \n",
    "# hop_size=160\n",
    "\n",
    "training.run_pipeline(\n",
    "    \"model_name\",\n",
    "    8,\n",
    "    10,\n",
    "    100,\n",
    "    8,\n",
    "    \"g_pretrained_path\",\n",
    "    \"d_pretrained_path\")"
   ]
  },
  {
   "cell_type": "code",
   "execution_count": null,
   "id": "1cb384ee",
   "metadata": {},
   "outputs": [],
   "source": [
    "\n",
    "inference.run_pipeline(\n",
    "    0, \n",
    "    \"input-audio.wav\", \n",
    "    \"output-audio.wav\", \n",
    "    \"path-to-pth-file.pth\")"
   ]
  },
  {
   "cell_type": "code",
   "execution_count": null,
   "id": "fc7cad28",
   "metadata": {},
   "outputs": [],
   "source": [
    "batch_inference.run_pipeline(\n",
    "    0, \n",
    "    \"input-dir-audio\", \n",
    "    \"output-dir-audio\", \n",
    "    \"path-to-pth-file.pth\")"
   ]
  }
 ],
 "metadata": {
  "kernelspec": {
   "display_name": "Python 3 (ipykernel)",
   "language": "python",
   "name": "python3"
  },
  "language_info": {
   "codemirror_mode": {
    "name": "ipython",
    "version": 3
   },
   "file_extension": ".py",
   "mimetype": "text/x-python",
   "name": "python",
   "nbconvert_exporter": "python",
   "pygments_lexer": "ipython3",
   "version": "3.10.12"
  }
 },
 "nbformat": 4,
 "nbformat_minor": 5
}
