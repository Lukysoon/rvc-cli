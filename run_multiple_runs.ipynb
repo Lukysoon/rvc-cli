{
 "cells": [
  {
   "cell_type": "code",
   "execution_count": null,
   "id": "8fd9188c-3bd1-42ec-8845-0f05b35b80ad",
   "metadata": {},
   "outputs": [],
   "source": [
    "import training\n",
    "import inference\n",
    "import batch_inference\n",
    "import blending"
   ]
  },
  {
   "cell_type": "code",
   "execution_count": null,
   "id": "1aa1291b-bc02-4baa-aaaa-ff975acfd002",
   "metadata": {},
   "outputs": [],
   "source": [
    "training.run_pipeline(\n",
    "    \"model_name\", #folder with audios | real path: /workspace/rvc-cli/datasets/model_name\n",
    "    8, #cpu cores \n",
    "    10, #save every x epoch\n",
    "    100, #total epochs \n",
    "    8, #batch size\n",
    "    \"pretrained_directory\") # real path: /workspace/rvc-cli/pretrained_directory"
   ]
  },
  {
   "cell_type": "code",
   "execution_count": null,
   "id": "1cb384ee",
   "metadata": {},
   "outputs": [],
   "source": [
    "inference.run_pipeline(\n",
    "    0, \n",
    "    \"input-audio.wav\", # real path: /workspace/rvc-cli/input-audio.wav\n",
    "    \"output-audio.wav\", # real path: /workspace/rvc-cli/output-audio.wav\n",
    "    \"path-to-pth-file.pth\") # real path: /workspace/rvc-cli/path-to-pth-file.pth"
   ]
  },
  {
   "cell_type": "code",
   "execution_count": null,
   "id": "fc7cad28",
   "metadata": {},
   "outputs": [],
   "source": [
    "batch_inference.run_pipeline(\n",
    "    0, \n",
    "    \"input\", # real path: /workspace/rvc-cli/input\n",
    "    \"output\",  # real path: /workspace/rvc-cli/output\n",
    "    \"path-to-pth-file.pth\") # real path: /workspace/rvc-cli/path-to-pth-file.pth"
   ]
  },
  {
   "cell_type": "code",
   "execution_count": null,
   "id": "72ebf0d6",
   "metadata": {},
   "outputs": [],
   "source": [
    "blending.run_pipeline(\n",
    "    \"model_name\", # output filename without extension | real export path: /workspace/rvc-cli/model_name.pth\n",
    "    \"pth_path_1.pth\", # first model input: | real path: /workspace/rvc-cli/pth_path_1.pth\n",
    "    \"pth_path_2.pth\", # second model input: | real path: /workspace/rvc-cli/pth_path_2.pth\n",
    "    0.5) # blending ratio"
   ]
  }
 ],
 "metadata": {
  "kernelspec": {
   "display_name": "venv",
   "language": "python",
   "name": "python3"
  },
  "language_info": {
   "codemirror_mode": {
    "name": "ipython",
    "version": 3
   },
   "file_extension": ".py",
   "mimetype": "text/x-python",
   "name": "python",
   "nbconvert_exporter": "python",
   "pygments_lexer": "ipython3",
   "version": "3.10.12"
  }
 },
 "nbformat": 4,
 "nbformat_minor": 5
}
